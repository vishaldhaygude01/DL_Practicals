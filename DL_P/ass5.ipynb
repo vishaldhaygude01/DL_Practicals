{
 "cells": [
  {
   "cell_type": "code",
   "execution_count": 25,
   "metadata": {
    "id": "V51q50EbF-T9"
   },
   "outputs": [],
   "source": [
    "#importing libraries\n",
    "\n",
    "from keras.preprocessing import text\n",
    "from keras.utils import to_categorical\n",
    "from tensorflow.python.keras.utils import np_utils\n",
    "from keras.preprocessing import sequence\n",
    "from tensorflow.keras.preprocessing.sequence import pad_sequences\n",
    "import numpy as np\n",
    "import pandas as pd"
   ]
  },
  {
   "cell_type": "code",
   "execution_count": 26,
   "metadata": {
    "id": "wBUwYdBJElVz"
   },
   "outputs": [],
   "source": [
    "#taking random sentences as data\n",
    "data = \"\"\"Deep learning (also known as deep structured learning) is part of a broader family of machine learning methods based on artificial neural networks with representation learning. Learning can be supervised, semi-supervised or unsupervised. \n",
    "Deep-learning architectures such as deep neural networks, deep belief networks, deep reinforcement learning, recurrent neural networks, convolutional neural networks and Transformers have been applied to fields including computer vision, speech recognition, natural language processing, machine translation, bioinformatics, drug design, medical image analysis, climate science, material inspection and board game programs, where they have produced results comparable to and in some cases surpassing human expert performance.\n",
    "\"\"\"\n",
    "dl_data = data.split()"
   ]
  },
  {
   "cell_type": "code",
   "execution_count": 27,
   "metadata": {
    "colab": {
     "base_uri": "https://localhost:8080/"
    },
    "id": "celNk9LmEvm8",
    "outputId": "4e2143b6-92dc-452f-f468-7c9e6238e287"
   },
   "outputs": [
    {
     "name": "stdout",
     "output_type": "stream",
     "text": [
      "Vocabulary Size: 75\n",
      "Vocabulary Sample: [('learning', 1), ('deep', 2), ('networks', 3), ('neural', 4), ('and', 5), ('as', 6), ('of', 7), ('machine', 8), ('supervised', 9), ('have', 10)]\n"
     ]
    }
   ],
   "source": [
    "#tokenization\n",
    "tokenizer = text.Tokenizer()\n",
    "tokenizer.fit_on_texts(dl_data)\n",
    "word2id = tokenizer.word_index\n",
    "\n",
    "word2id['PAD'] = 0\n",
    "id2word = {v:k for k, v in word2id.items()}\n",
    "wids = [[word2id[w] for w in text.text_to_word_sequence(doc)] for doc in dl_data]\n",
    "\n",
    "vocab_size = len(word2id)\n",
    "embed_size = 100\n",
    "window_size = 2 \n",
    "\n",
    "print('Vocabulary Size:', vocab_size)\n",
    "print('Vocabulary Sample:', list(word2id.items())[:10])"
   ]
  },
  {
   "cell_type": "code",
   "execution_count": 28,
   "metadata": {
    "id": "AAxNYDanInQC"
   },
   "outputs": [],
   "source": [
    "#generating (context word, target/label word) pairs\n",
    "def generate_context_word_pairs(corpus, window_size, vocab_size):\n",
    "    context_length = window_size*2\n",
    "    for words in corpus:\n",
    "        sentence_length = len(words)\n",
    "        for index, word in enumerate(words):\n",
    "            context_words = []\n",
    "            label_word   = []            \n",
    "            start = index - window_size\n",
    "            end = index + window_size + 1\n",
    "            \n",
    "            context_words.append([words[i] \n",
    "                                 for i in range(start, end) \n",
    "                                 if 0 <= i < sentence_length \n",
    "                                 and i != index])\n",
    "            label_word.append(word)\n",
    "\n",
    "            x = pad_sequences(context_words, maxlen=context_length)\n",
    "            y = np_utils.to_categorical(label_word, vocab_size)\n",
    "            yield (x, y)\n",
    "            \n",
    "i = 0\n",
    "for x, y in generate_context_word_pairs(corpus=wids, window_size=window_size, vocab_size=vocab_size):\n",
    "    if 0 not in x[0]:\n",
    "        # print('Context (X):', [id2word[w] for w in x[0]], '-> Target (Y):', id2word[np.argwhere(y[0])[0][0]])\n",
    "    \n",
    "        if i == 10:\n",
    "            break\n",
    "        i += 1"
   ]
  },
  {
   "cell_type": "code",
   "execution_count": 29,
   "metadata": {
    "colab": {
     "base_uri": "https://localhost:8080/"
    },
    "id": "Rb5dNmoZKZBv",
    "outputId": "b859c07e-6989-420d-b169-8aa0b93ff367"
   },
   "outputs": [
    {
     "name": "stdout",
     "output_type": "stream",
     "text": [
      "Model: \"sequential_1\"\n",
      "_________________________________________________________________\n",
      " Layer (type)                Output Shape              Param #   \n",
      "=================================================================\n",
      " embedding_1 (Embedding)     (None, 4, 100)            7500      \n",
      "                                                                 \n",
      " lambda_1 (Lambda)           (None, 100)               0         \n",
      "                                                                 \n",
      " dense_1 (Dense)             (None, 75)                7575      \n",
      "                                                                 \n",
      "=================================================================\n",
      "Total params: 15075 (58.89 KB)\n",
      "Trainable params: 15075 (58.89 KB)\n",
      "Non-trainable params: 0 (0.00 Byte)\n",
      "_________________________________________________________________\n",
      "None\n"
     ]
    }
   ],
   "source": [
    "#model building\n",
    "import keras.backend as K\n",
    "from keras.models import Sequential\n",
    "from keras.layers import Dense, Embedding, Lambda\n",
    "\n",
    "cbow = Sequential()\n",
    "cbow.add(Embedding(input_dim=vocab_size, output_dim=embed_size, input_length=window_size*2))\n",
    "cbow.add(Lambda(lambda x: K.mean(x, axis=1), output_shape=(embed_size,)))\n",
    "cbow.add(Dense(vocab_size, activation='softmax'))\n",
    "cbow.compile(loss='categorical_crossentropy', optimizer='rmsprop')\n",
    "\n",
    "print(cbow.summary())\n",
    "\n",
    "# from IPython.display import SVG\n",
    "# from keras.utils.vis_utils import model_to_dot\n",
    "\n",
    "# SVG(model_to_dot(cbow, show_shapes=True, show_layer_names=False, rankdir='TB').create(prog='dot', format='svg'))"
   ]
  },
  {
   "cell_type": "code",
   "execution_count": 30,
   "metadata": {
    "colab": {
     "base_uri": "https://localhost:8080/"
    },
    "id": "xs12C3MDK1q4",
    "outputId": "fe8783b3-0ee1-4286-be40-6713afa14f9c"
   },
   "outputs": [
    {
     "name": "stdout",
     "output_type": "stream",
     "text": [
      "Epoch: 1 \tLoss: 433.6408042907715\n",
      "\n",
      "Epoch: 2 \tLoss: 429.25958371162415\n",
      "\n",
      "Epoch: 3 \tLoss: 426.04496479034424\n",
      "\n",
      "Epoch: 4 \tLoss: 422.9751491546631\n",
      "\n",
      "Epoch: 5 \tLoss: 420.5199680328369\n",
      "\n"
     ]
    }
   ],
   "source": [
    "for epoch in range(1, 6):\n",
    "    loss = 0.\n",
    "    i = 0\n",
    "    for x, y in generate_context_word_pairs(corpus=wids, window_size=window_size, vocab_size=vocab_size):\n",
    "        i += 1\n",
    "        loss += cbow.train_on_batch(x, y)\n",
    "        if i % 100000 == 0:\n",
    "            print('Processed {} (context, word) pairs'.format(i))\n",
    "\n",
    "    print('Epoch:', epoch, '\\tLoss:', loss)\n",
    "    print()"
   ]
  },
  {
   "cell_type": "code",
   "execution_count": 31,
   "metadata": {
    "colab": {
     "base_uri": "https://localhost:8080/",
     "height": 253
    },
    "id": "TZ3_QGKVK6Tj",
    "outputId": "cd9d167a-85a3-4cc9-eccb-faf997526122"
   },
   "outputs": [
    {
     "name": "stdout",
     "output_type": "stream",
     "text": [
      "(74, 100)\n"
     ]
    },
    {
     "data": {
      "text/html": [
       "<div>\n",
       "<style scoped>\n",
       "    .dataframe tbody tr th:only-of-type {\n",
       "        vertical-align: middle;\n",
       "    }\n",
       "\n",
       "    .dataframe tbody tr th {\n",
       "        vertical-align: top;\n",
       "    }\n",
       "\n",
       "    .dataframe thead th {\n",
       "        text-align: right;\n",
       "    }\n",
       "</style>\n",
       "<table border=\"1\" class=\"dataframe\">\n",
       "  <thead>\n",
       "    <tr style=\"text-align: right;\">\n",
       "      <th></th>\n",
       "      <th>0</th>\n",
       "      <th>1</th>\n",
       "      <th>2</th>\n",
       "      <th>3</th>\n",
       "      <th>4</th>\n",
       "      <th>5</th>\n",
       "      <th>6</th>\n",
       "      <th>7</th>\n",
       "      <th>8</th>\n",
       "      <th>9</th>\n",
       "      <th>...</th>\n",
       "      <th>90</th>\n",
       "      <th>91</th>\n",
       "      <th>92</th>\n",
       "      <th>93</th>\n",
       "      <th>94</th>\n",
       "      <th>95</th>\n",
       "      <th>96</th>\n",
       "      <th>97</th>\n",
       "      <th>98</th>\n",
       "      <th>99</th>\n",
       "    </tr>\n",
       "  </thead>\n",
       "  <tbody>\n",
       "    <tr>\n",
       "      <th>deep</th>\n",
       "      <td>-0.062841</td>\n",
       "      <td>0.050224</td>\n",
       "      <td>0.045262</td>\n",
       "      <td>0.031378</td>\n",
       "      <td>-0.019324</td>\n",
       "      <td>-0.006547</td>\n",
       "      <td>0.036141</td>\n",
       "      <td>0.047725</td>\n",
       "      <td>0.012786</td>\n",
       "      <td>0.009046</td>\n",
       "      <td>...</td>\n",
       "      <td>0.039832</td>\n",
       "      <td>-0.045109</td>\n",
       "      <td>-0.013120</td>\n",
       "      <td>-0.007812</td>\n",
       "      <td>-0.059704</td>\n",
       "      <td>-0.061302</td>\n",
       "      <td>0.050232</td>\n",
       "      <td>-0.048606</td>\n",
       "      <td>0.030831</td>\n",
       "      <td>0.057733</td>\n",
       "    </tr>\n",
       "    <tr>\n",
       "      <th>networks</th>\n",
       "      <td>-0.005485</td>\n",
       "      <td>0.054031</td>\n",
       "      <td>-0.030289</td>\n",
       "      <td>0.025787</td>\n",
       "      <td>-0.023833</td>\n",
       "      <td>-0.030531</td>\n",
       "      <td>0.040018</td>\n",
       "      <td>0.032443</td>\n",
       "      <td>-0.047442</td>\n",
       "      <td>-0.035770</td>\n",
       "      <td>...</td>\n",
       "      <td>0.052667</td>\n",
       "      <td>-0.049117</td>\n",
       "      <td>-0.057130</td>\n",
       "      <td>-0.052114</td>\n",
       "      <td>-0.033775</td>\n",
       "      <td>-0.043051</td>\n",
       "      <td>-0.063602</td>\n",
       "      <td>-0.042139</td>\n",
       "      <td>0.000944</td>\n",
       "      <td>-0.028700</td>\n",
       "    </tr>\n",
       "    <tr>\n",
       "      <th>neural</th>\n",
       "      <td>0.003984</td>\n",
       "      <td>-0.003989</td>\n",
       "      <td>0.019590</td>\n",
       "      <td>-0.001083</td>\n",
       "      <td>-0.042998</td>\n",
       "      <td>0.035301</td>\n",
       "      <td>0.042078</td>\n",
       "      <td>-0.038771</td>\n",
       "      <td>0.005126</td>\n",
       "      <td>-0.028823</td>\n",
       "      <td>...</td>\n",
       "      <td>-0.041444</td>\n",
       "      <td>0.017226</td>\n",
       "      <td>-0.008316</td>\n",
       "      <td>-0.036265</td>\n",
       "      <td>0.042205</td>\n",
       "      <td>-0.040994</td>\n",
       "      <td>-0.009765</td>\n",
       "      <td>-0.026882</td>\n",
       "      <td>-0.017538</td>\n",
       "      <td>0.006527</td>\n",
       "    </tr>\n",
       "    <tr>\n",
       "      <th>and</th>\n",
       "      <td>0.035801</td>\n",
       "      <td>-0.027061</td>\n",
       "      <td>0.011732</td>\n",
       "      <td>-0.034799</td>\n",
       "      <td>-0.025510</td>\n",
       "      <td>-0.037281</td>\n",
       "      <td>-0.026599</td>\n",
       "      <td>0.017830</td>\n",
       "      <td>0.015145</td>\n",
       "      <td>-0.041047</td>\n",
       "      <td>...</td>\n",
       "      <td>0.014327</td>\n",
       "      <td>0.019009</td>\n",
       "      <td>-0.034321</td>\n",
       "      <td>0.035632</td>\n",
       "      <td>0.031979</td>\n",
       "      <td>-0.042596</td>\n",
       "      <td>-0.032548</td>\n",
       "      <td>-0.002557</td>\n",
       "      <td>-0.018114</td>\n",
       "      <td>0.008246</td>\n",
       "    </tr>\n",
       "    <tr>\n",
       "      <th>as</th>\n",
       "      <td>0.028519</td>\n",
       "      <td>0.044952</td>\n",
       "      <td>-0.015072</td>\n",
       "      <td>0.007507</td>\n",
       "      <td>0.047801</td>\n",
       "      <td>-0.047712</td>\n",
       "      <td>0.002004</td>\n",
       "      <td>-0.042218</td>\n",
       "      <td>0.003790</td>\n",
       "      <td>0.043062</td>\n",
       "      <td>...</td>\n",
       "      <td>-0.029402</td>\n",
       "      <td>0.045859</td>\n",
       "      <td>0.040254</td>\n",
       "      <td>-0.032628</td>\n",
       "      <td>0.035226</td>\n",
       "      <td>-0.036641</td>\n",
       "      <td>-0.029527</td>\n",
       "      <td>0.022108</td>\n",
       "      <td>-0.038257</td>\n",
       "      <td>0.012793</td>\n",
       "    </tr>\n",
       "  </tbody>\n",
       "</table>\n",
       "<p>5 rows × 100 columns</p>\n",
       "</div>"
      ],
      "text/plain": [
       "                0         1         2         3         4         5   \\\n",
       "deep     -0.062841  0.050224  0.045262  0.031378 -0.019324 -0.006547   \n",
       "networks -0.005485  0.054031 -0.030289  0.025787 -0.023833 -0.030531   \n",
       "neural    0.003984 -0.003989  0.019590 -0.001083 -0.042998  0.035301   \n",
       "and       0.035801 -0.027061  0.011732 -0.034799 -0.025510 -0.037281   \n",
       "as        0.028519  0.044952 -0.015072  0.007507  0.047801 -0.047712   \n",
       "\n",
       "                6         7         8         9   ...        90        91  \\\n",
       "deep      0.036141  0.047725  0.012786  0.009046  ...  0.039832 -0.045109   \n",
       "networks  0.040018  0.032443 -0.047442 -0.035770  ...  0.052667 -0.049117   \n",
       "neural    0.042078 -0.038771  0.005126 -0.028823  ... -0.041444  0.017226   \n",
       "and      -0.026599  0.017830  0.015145 -0.041047  ...  0.014327  0.019009   \n",
       "as        0.002004 -0.042218  0.003790  0.043062  ... -0.029402  0.045859   \n",
       "\n",
       "                92        93        94        95        96        97  \\\n",
       "deep     -0.013120 -0.007812 -0.059704 -0.061302  0.050232 -0.048606   \n",
       "networks -0.057130 -0.052114 -0.033775 -0.043051 -0.063602 -0.042139   \n",
       "neural   -0.008316 -0.036265  0.042205 -0.040994 -0.009765 -0.026882   \n",
       "and      -0.034321  0.035632  0.031979 -0.042596 -0.032548 -0.002557   \n",
       "as        0.040254 -0.032628  0.035226 -0.036641 -0.029527  0.022108   \n",
       "\n",
       "                98        99  \n",
       "deep      0.030831  0.057733  \n",
       "networks  0.000944 -0.028700  \n",
       "neural   -0.017538  0.006527  \n",
       "and      -0.018114  0.008246  \n",
       "as       -0.038257  0.012793  \n",
       "\n",
       "[5 rows x 100 columns]"
      ]
     },
     "execution_count": 31,
     "metadata": {},
     "output_type": "execute_result"
    }
   ],
   "source": [
    "weights = cbow.get_weights()[0]\n",
    "weights = weights[1:]\n",
    "print(weights.shape)\n",
    "\n",
    "pd.DataFrame(weights, index=list(id2word.values())[1:]).head()"
   ]
  },
  {
   "cell_type": "code",
   "execution_count": 32,
   "metadata": {
    "colab": {
     "base_uri": "https://localhost:8080/"
    },
    "id": "UFs2IAn_LAYS",
    "outputId": "87ae1249-6a80-484f-b4a2-4d5f20734db7"
   },
   "outputs": [
    {
     "name": "stdout",
     "output_type": "stream",
     "text": [
      "(74, 74)\n"
     ]
    },
    {
     "data": {
      "text/plain": [
       "{'deep': ['unsupervised', 'machine', 'be', 'networks', 'is']}"
      ]
     },
     "execution_count": 32,
     "metadata": {},
     "output_type": "execute_result"
    }
   ],
   "source": [
    "from sklearn.metrics.pairwise import euclidean_distances\n",
    "\n",
    "distance_matrix = euclidean_distances(weights)\n",
    "print(distance_matrix.shape)\n",
    "\n",
    "similar_words = {search_term: [id2word[idx] for idx in distance_matrix[word2id[search_term]-1].argsort()[1:6]+1] \n",
    "                   for search_term in ['deep']}\n",
    "\n",
    "similar_words"
   ]
  },
  {
   "cell_type": "code",
   "execution_count": null,
   "metadata": {},
   "outputs": [],
   "source": []
  },
  {
   "cell_type": "code",
   "execution_count": null,
   "metadata": {},
   "outputs": [],
   "source": []
  },
  {
   "cell_type": "code",
   "execution_count": null,
   "metadata": {},
   "outputs": [],
   "source": []
  },
  {
   "cell_type": "code",
   "execution_count": null,
   "metadata": {},
   "outputs": [],
   "source": []
  }
 ],
 "metadata": {
  "colab": {
   "collapsed_sections": [],
   "provenance": []
  },
  "kernelspec": {
   "display_name": "Python 3 (ipykernel)",
   "language": "python",
   "name": "python3"
  },
  "language_info": {
   "codemirror_mode": {
    "name": "ipython",
    "version": 3
   },
   "file_extension": ".py",
   "mimetype": "text/x-python",
   "name": "python",
   "nbconvert_exporter": "python",
   "pygments_lexer": "ipython3",
   "version": "3.11.5"
  }
 },
 "nbformat": 4,
 "nbformat_minor": 1
}
